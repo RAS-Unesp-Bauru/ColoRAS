{
  "nbformat": 4,
  "nbformat_minor": 0,
  "metadata": {
    "accelerator": "GPU",
    "colab": {
      "name": "Model_Deep_Lab.ipynb",
      "provenance": []
    },
    "kernelspec": {
      "display_name": "Python 3",
      "name": "python3"
    },
    "language_info": {
      "name": "python"
    }
  },
  "cells": [
    {
      "cell_type": "markdown",
      "metadata": {
        "id": "9yCWibdWfKEJ"
      },
      "source": [
        "**Importações**"
      ]
    },
    {
      "cell_type": "code",
      "metadata": {
        "id": "iz665CcBH7B-"
      },
      "source": [
        "import cv2\n",
        "import os\n",
        "import json\n",
        "import pandas as pd\n",
        "import numpy as np\n",
        "import random\n",
        "from glob import glob\n",
        "from scipy.io import loadmat\n",
        "import seaborn as sns\n",
        "import matplotlib.pyplot as plt\n",
        "from collections import Counter\n",
        "from PIL import Image\n",
        "%matplotlib inline\n",
        "\n",
        "import tensorflow as tf\n",
        "from tensorflow import keras\n",
        "from tensorflow.keras import layers\n",
        "from tensorflow.keras.models import load_model"
      ],
      "execution_count": null,
      "outputs": []
    },
    {
      "cell_type": "code",
      "metadata": {
        "id": "sZpqQOAXJIPV"
      },
      "source": [
        "import warnings\n",
        "warnings.filterwarnings(\"ignore\")"
      ],
      "execution_count": null,
      "outputs": []
    },
    {
      "cell_type": "markdown",
      "metadata": {
        "id": "LS5JJLOGfPaC"
      },
      "source": [
        "**Pré-processamento**"
      ]
    },
    {
      "cell_type": "code",
      "metadata": {
        "colab": {
          "base_uri": "https://localhost:8080/"
        },
        "id": "21o3tM7cKBkM",
        "outputId": "f0007b1f-24ce-49ef-85d7-715703198a3e"
      },
      "source": [
        "with open(r'/content/drive/MyDrive/Dataset de roupas/label_descriptions.json') as labels_json:\n",
        "    labels_df = json.load(labels_json)\n",
        "\n",
        "print(labels_df['attributes'])"
      ],
      "execution_count": null,
      "outputs": [
        {
          "output_type": "stream",
          "name": "stdout",
          "text": [
            "[{'id': 0, 'name': 'above-the-hip (length)', 'supercategory': 'length', 'level': 1}, {'id': 1, 'name': 'hip (length)', 'supercategory': 'length', 'level': 1}, {'id': 2, 'name': 'micro (length)', 'supercategory': 'length', 'level': 1}, {'id': 3, 'name': 'mini (length)', 'supercategory': 'length', 'level': 1}, {'id': 4, 'name': 'above-the-knee (length)', 'supercategory': 'length', 'level': 1}, {'id': 5, 'name': 'knee (length)', 'supercategory': 'length', 'level': 1}, {'id': 6, 'name': 'below the knee (length)', 'supercategory': 'length', 'level': 1}, {'id': 7, 'name': 'midi', 'supercategory': 'length', 'level': 1}, {'id': 8, 'name': 'maxi (length)', 'supercategory': 'length', 'level': 1}, {'id': 9, 'name': 'floor (length)', 'supercategory': 'length', 'level': 1}, {'id': 10, 'name': 'single breasted', 'supercategory': 'opening type', 'level': 1}, {'id': 11, 'name': 'double breasted', 'supercategory': 'opening type', 'level': 1}, {'id': 12, 'name': 'lace up', 'supercategory': 'opening type', 'level': 1}, {'id': 13, 'name': 'wrapping', 'supercategory': 'opening type', 'level': 1}, {'id': 14, 'name': 'zip-up', 'supercategory': 'opening type', 'level': 1}, {'id': 15, 'name': 'fly (opening)', 'supercategory': 'opening type', 'level': 1}, {'id': 16, 'name': 'buckled (opening)', 'supercategory': 'opening type', 'level': 1}, {'id': 17, 'name': 'toggled (opening)', 'supercategory': 'opening type', 'level': 1}, {'id': 18, 'name': 'no opening', 'supercategory': 'opening type', 'level': 1}, {'id': 19, 'name': 'asymmetrical', 'supercategory': 'silhouette', 'level': 1}, {'id': 20, 'name': 'symmetrical', 'supercategory': 'silhouette', 'level': 1}, {'id': 21, 'name': 'peplum', 'supercategory': 'silhouette', 'level': 1}, {'id': 22, 'name': 'circle', 'supercategory': 'silhouette', 'level': 1}, {'id': 23, 'name': 'flare', 'supercategory': 'silhouette', 'level': 1}, {'id': 24, 'name': 'fit and flare', 'supercategory': 'silhouette', 'level': 1}, {'id': 25, 'name': 'trumpet', 'supercategory': 'silhouette', 'level': 1}, {'id': 26, 'name': 'mermaid', 'supercategory': 'silhouette', 'level': 1}, {'id': 27, 'name': 'balloon', 'supercategory': 'silhouette', 'level': 1}, {'id': 28, 'name': 'bell', 'supercategory': 'silhouette', 'level': 1}, {'id': 29, 'name': 'bell bottom', 'supercategory': 'silhouette', 'level': 1}, {'id': 30, 'name': 'bootcut', 'supercategory': 'silhouette', 'level': 1}, {'id': 31, 'name': 'peg', 'supercategory': 'silhouette', 'level': 1}, {'id': 32, 'name': 'pencil', 'supercategory': 'silhouette', 'level': 1}, {'id': 33, 'name': 'straight', 'supercategory': 'silhouette', 'level': 1}, {'id': 34, 'name': 'a-line', 'supercategory': 'silhouette', 'level': 1}, {'id': 35, 'name': 'tent', 'supercategory': 'silhouette', 'level': 1}, {'id': 36, 'name': 'baggy', 'supercategory': 'silhouette', 'level': 1}, {'id': 37, 'name': 'wide leg', 'supercategory': 'silhouette', 'level': 1}, {'id': 38, 'name': 'high low', 'supercategory': 'silhouette', 'level': 1}, {'id': 39, 'name': 'curved (fit)', 'supercategory': 'silhouette', 'level': 1}, {'id': 40, 'name': 'tight (fit)', 'supercategory': 'silhouette', 'level': 1}, {'id': 41, 'name': 'regular (fit)', 'supercategory': 'silhouette', 'level': 1}, {'id': 42, 'name': 'loose (fit)', 'supercategory': 'silhouette', 'level': 1}, {'id': 43, 'name': 'oversized', 'supercategory': 'silhouette', 'level': 1}, {'id': 44, 'name': 'burnout', 'supercategory': 'textile finishing, manufacturing techniques', 'level': 1}, {'id': 45, 'name': 'distressed', 'supercategory': 'textile finishing, manufacturing techniques', 'level': 1}, {'id': 46, 'name': 'washed', 'supercategory': 'textile finishing, manufacturing techniques', 'level': 1}, {'id': 47, 'name': 'embossed', 'supercategory': 'textile finishing, manufacturing techniques', 'level': 1}, {'id': 48, 'name': 'frayed', 'supercategory': 'textile finishing, manufacturing techniques', 'level': 1}, {'id': 49, 'name': 'printed', 'supercategory': 'textile finishing, manufacturing techniques', 'level': 1}, {'id': 50, 'name': 'ruched', 'supercategory': 'textile finishing, manufacturing techniques', 'level': 1}, {'id': 51, 'name': 'quilted', 'supercategory': 'textile finishing, manufacturing techniques', 'level': 1}, {'id': 52, 'name': 'pleat', 'supercategory': 'textile finishing, manufacturing techniques', 'level': 1}, {'id': 53, 'name': 'gathering', 'supercategory': 'textile finishing, manufacturing techniques', 'level': 1}, {'id': 54, 'name': 'smocking', 'supercategory': 'textile finishing, manufacturing techniques', 'level': 1}, {'id': 55, 'name': 'tiered', 'supercategory': 'textile finishing, manufacturing techniques', 'level': 1}, {'id': 56, 'name': 'cutout', 'supercategory': 'textile finishing, manufacturing techniques', 'level': 1}, {'id': 57, 'name': 'slit', 'supercategory': 'textile finishing, manufacturing techniques', 'level': 1}, {'id': 58, 'name': 'perforated', 'supercategory': 'textile finishing, manufacturing techniques', 'level': 1}, {'id': 59, 'name': 'lining', 'supercategory': 'textile finishing, manufacturing techniques', 'level': 1}, {'id': 60, 'name': 'no special manufacturing technique', 'supercategory': 'textile finishing, manufacturing techniques', 'level': 1}, {'id': 61, 'name': 'plain (pattern)', 'supercategory': 'textile pattern', 'level': 1}, {'id': 62, 'name': 'abstract', 'supercategory': 'textile pattern', 'level': 1}, {'id': 63, 'name': 'cartoon', 'supercategory': 'textile pattern', 'level': 1}, {'id': 64, 'name': 'letters, numbers', 'supercategory': 'textile pattern', 'level': 1}, {'id': 65, 'name': 'camouflage', 'supercategory': 'textile pattern', 'level': 1}, {'id': 66, 'name': 'check', 'supercategory': 'textile pattern', 'level': 1}, {'id': 67, 'name': 'dot', 'supercategory': 'textile pattern', 'level': 1}, {'id': 68, 'name': 'fair isle', 'supercategory': 'textile pattern', 'level': 1}, {'id': 69, 'name': 'floral', 'supercategory': 'textile pattern', 'level': 1}, {'id': 70, 'name': 'geometric', 'supercategory': 'textile pattern', 'level': 1}, {'id': 71, 'name': 'paisley', 'supercategory': 'textile pattern', 'level': 1}, {'id': 72, 'name': 'stripe', 'supercategory': 'textile pattern', 'level': 1}, {'id': 73, 'name': 'houndstooth (pattern)', 'supercategory': 'textile pattern', 'level': 1}, {'id': 74, 'name': 'herringbone (pattern)', 'supercategory': 'textile pattern', 'level': 1}, {'id': 75, 'name': 'chevron', 'supercategory': 'textile pattern', 'level': 1}, {'id': 76, 'name': 'argyle', 'supercategory': 'textile pattern', 'level': 1}, {'id': 77, 'name': 'leopard', 'supercategory': 'animal', 'level': 2}, {'id': 78, 'name': 'snakeskin (pattern)', 'supercategory': 'animal', 'level': 2}, {'id': 79, 'name': 'cheetah', 'supercategory': 'animal', 'level': 2}, {'id': 80, 'name': 'peacock', 'supercategory': 'animal', 'level': 2}, {'id': 81, 'name': 'zebra', 'supercategory': 'animal', 'level': 2}, {'id': 82, 'name': 'giraffe', 'supercategory': 'animal', 'level': 2}, {'id': 83, 'name': 'toile de jouy', 'supercategory': 'textile pattern', 'level': 1}, {'id': 84, 'name': 'plant', 'supercategory': 'textile pattern', 'level': 1}, {'id': 85, 'name': 'empire waistline', 'supercategory': 'waistline', 'level': 1}, {'id': 86, 'name': 'dropped waistline', 'supercategory': 'waistline', 'level': 1}, {'id': 87, 'name': 'high waist', 'supercategory': 'waistline', 'level': 1}, {'id': 88, 'name': 'normal waist', 'supercategory': 'waistline', 'level': 1}, {'id': 89, 'name': 'low waist', 'supercategory': 'waistline', 'level': 1}, {'id': 90, 'name': 'basque (wasitline)', 'supercategory': 'waistline', 'level': 1}, {'id': 91, 'name': 'no waistline', 'supercategory': 'waistline', 'level': 1}]\n"
          ]
        }
      ]
    },
    {
      "cell_type": "code",
      "metadata": {
        "colab": {
          "base_uri": "https://localhost:8080/"
        },
        "id": "_vYquWjcKDh8",
        "outputId": "604c0d95-8c2f-43c8-8e81-a49a9ce1413e"
      },
      "source": [
        "categories=pd.DataFrame(labels_df['categories'])\n",
        "categories['supercategory'].value_counts()"
      ],
      "execution_count": null,
      "outputs": [
        {
          "output_type": "execute_result",
          "data": {
            "text/plain": [
              "decorations       10\n",
              "garment parts      7\n",
              "upperbody          6\n",
              "legs and feet      4\n",
              "wholebody          4\n",
              "lowerbody          3\n",
              "others             3\n",
              "head               3\n",
              "arms and hands     2\n",
              "closures           2\n",
              "neck               1\n",
              "waist              1\n",
              "Name: supercategory, dtype: int64"
            ]
          },
          "metadata": {},
          "execution_count": 5
        }
      ]
    },
    {
      "cell_type": "code",
      "metadata": {
        "colab": {
          "base_uri": "https://localhost:8080/"
        },
        "id": "aBdjuMe0KH-L",
        "outputId": "5cd94023-92a4-4eff-c86d-bbf01d2a9a42"
      },
      "source": [
        "attributes=pd.DataFrame(labels_df['attributes'])\n",
        "attributes['supercategory'].value_counts()"
      ],
      "execution_count": null,
      "outputs": [
        {
          "output_type": "execute_result",
          "data": {
            "text/plain": [
              "silhouette                                     25\n",
              "textile pattern                                18\n",
              "textile finishing, manufacturing techniques    17\n",
              "length                                         10\n",
              "opening type                                    9\n",
              "waistline                                       7\n",
              "animal                                          6\n",
              "Name: supercategory, dtype: int64"
            ]
          },
          "metadata": {},
          "execution_count": 6
        }
      ]
    },
    {
      "cell_type": "code",
      "metadata": {
        "id": "KYeZ8YGnKJx0"
      },
      "source": [
        "train_df=pd.read_csv(r'/content/drive/MyDrive/Dataset de roupas/train.csv')\n",
        "train_df['category']=train_df['ClassId'].str.split('_').str[0]\n",
        "train_df['attributes']=train_df['ClassId'].str.split('_').str[1:]"
      ],
      "execution_count": null,
      "outputs": []
    },
    {
      "cell_type": "code",
      "metadata": {
        "id": "g2eMVCrnKbuz"
      },
      "source": [
        "co=[]\n",
        "for i in range (len(train_df)):\n",
        "    if len(train_df['attributes'].iloc[i])>0:\n",
        "        co.append(len(train_df['attributes'].iloc[i]))\n",
        "    else:\n",
        "        co.append(0)\n",
        "train_df['count']=co"
      ],
      "execution_count": null,
      "outputs": []
    },
    {
      "cell_type": "code",
      "metadata": {
        "id": "dfHPddAhKeub"
      },
      "source": [
        "def rle2mask(image_filename,mask_rle,cat,H,W):\n",
        "   mask=np.ones((H*W),dtype='uint8')*255\n",
        "\n",
        "   en_list=mask_rle\n",
        "\n",
        "   cat = np.int32(cat)\n",
        "   sorted_index = np.argsort(cat)\n",
        "   \n",
        "   for i in sorted_index:\n",
        "\n",
        "\n",
        "     px_list=list(map(int,en_list[i].split(\" \")[0::2]))\n",
        "     \n",
        "    \n",
        "     px_count_list=list(map(int,en_list[i].split(\" \")[1::2]))\n",
        "     \n",
        "    \n",
        "     cat_list=int(cat[i])\n",
        "     \n",
        "     tu=list(map(lambda x, y:(x,y), px_list, px_count_list))\n",
        "     for p,m in tu:\n",
        "       \n",
        "        mask[p:p+m]=cat_list\n",
        "       \n",
        "   \n",
        "   mask = mask.reshape((W,H)).T\n",
        "   mask=cv2.cvtColor(mask,cv2.COLOR_GRAY2BGR)\n",
        "   mask=cv2.resize(mask, (512, 512),interpolation=cv2.INTER_NEAREST)\n",
        "  \n",
        "   return mask"
      ],
      "execution_count": null,
      "outputs": []
    },
    {
      "cell_type": "code",
      "metadata": {
        "colab": {
          "base_uri": "https://localhost:8080/",
          "height": 340
        },
        "id": "TnCmf6HbKiNE",
        "outputId": "7e0d2273-1e8e-4a8c-dd98-08983891b016"
      },
      "source": [
        "image_df = train_df.groupby('ImageId')['EncodedPixels', 'category'].agg(lambda x: list(x))\n",
        "size_df = train_df.groupby('ImageId')['Height', 'Width'].mean()\n",
        "image_df = image_df.join(size_df, on='ImageId')\n",
        "\n",
        "print(\"Total images: \", len(image_df))\n",
        "image_df.head()"
      ],
      "execution_count": null,
      "outputs": [
        {
          "output_type": "stream",
          "name": "stdout",
          "text": [
            "Total images:  45195\n"
          ]
        },
        {
          "output_type": "execute_result",
          "data": {
            "text/html": [
              "<div>\n",
              "<style scoped>\n",
              "    .dataframe tbody tr th:only-of-type {\n",
              "        vertical-align: middle;\n",
              "    }\n",
              "\n",
              "    .dataframe tbody tr th {\n",
              "        vertical-align: top;\n",
              "    }\n",
              "\n",
              "    .dataframe thead th {\n",
              "        text-align: right;\n",
              "    }\n",
              "</style>\n",
              "<table border=\"1\" class=\"dataframe\">\n",
              "  <thead>\n",
              "    <tr style=\"text-align: right;\">\n",
              "      <th></th>\n",
              "      <th>EncodedPixels</th>\n",
              "      <th>category</th>\n",
              "      <th>Height</th>\n",
              "      <th>Width</th>\n",
              "    </tr>\n",
              "    <tr>\n",
              "      <th>ImageId</th>\n",
              "      <th></th>\n",
              "      <th></th>\n",
              "      <th></th>\n",
              "      <th></th>\n",
              "    </tr>\n",
              "  </thead>\n",
              "  <tbody>\n",
              "    <tr>\n",
              "      <th>00000663ed1ff0c4e0132b9b9ac53f6e.jpg</th>\n",
              "      <td>[6068157 7 6073371 20 6078584 34 6083797 48 60...</td>\n",
              "      <td>[6, 0, 28, 31, 32, 32, 31, 29, 4]</td>\n",
              "      <td>5214</td>\n",
              "      <td>3676</td>\n",
              "    </tr>\n",
              "    <tr>\n",
              "      <th>0000fe7c9191fba733c8a69cfaf962b7.jpg</th>\n",
              "      <td>[2201176 1 2203623 3 2206071 5 2208518 8 22109...</td>\n",
              "      <td>[33, 1]</td>\n",
              "      <td>2448</td>\n",
              "      <td>2448</td>\n",
              "    </tr>\n",
              "    <tr>\n",
              "      <th>0002ec21ddb8477e98b2cbb87ea2e269.jpg</th>\n",
              "      <td>[2673735 2 2676734 8 2679734 13 2682733 19 268...</td>\n",
              "      <td>[33, 10, 23, 23]</td>\n",
              "      <td>3000</td>\n",
              "      <td>1997</td>\n",
              "    </tr>\n",
              "    <tr>\n",
              "      <th>0002f5a0ebc162ecfb73e2c91e3b8f62.jpg</th>\n",
              "      <td>[435 132 1002 132 1569 132 2136 132 2703 132 3...</td>\n",
              "      <td>[10, 33, 15]</td>\n",
              "      <td>567</td>\n",
              "      <td>400</td>\n",
              "    </tr>\n",
              "    <tr>\n",
              "      <th>0004467156e47b0eb6de4aa6479cbd15.jpg</th>\n",
              "      <td>[132663 8 133396 25 134130 41 134868 53 135611...</td>\n",
              "      <td>[10, 33, 31, 31, 15]</td>\n",
              "      <td>750</td>\n",
              "      <td>500</td>\n",
              "    </tr>\n",
              "  </tbody>\n",
              "</table>\n",
              "</div>"
            ],
            "text/plain": [
              "                                                                          EncodedPixels  ... Width\n",
              "ImageId                                                                                  ...      \n",
              "00000663ed1ff0c4e0132b9b9ac53f6e.jpg  [6068157 7 6073371 20 6078584 34 6083797 48 60...  ...  3676\n",
              "0000fe7c9191fba733c8a69cfaf962b7.jpg  [2201176 1 2203623 3 2206071 5 2208518 8 22109...  ...  2448\n",
              "0002ec21ddb8477e98b2cbb87ea2e269.jpg  [2673735 2 2676734 8 2679734 13 2682733 19 268...  ...  1997\n",
              "0002f5a0ebc162ecfb73e2c91e3b8f62.jpg  [435 132 1002 132 1569 132 2136 132 2703 132 3...  ...   400\n",
              "0004467156e47b0eb6de4aa6479cbd15.jpg  [132663 8 133396 25 134130 41 134868 53 135611...  ...   500\n",
              "\n",
              "[5 rows x 4 columns]"
            ]
          },
          "metadata": {},
          "execution_count": 10
        }
      ]
    },
    {
      "cell_type": "code",
      "metadata": {
        "colab": {
          "base_uri": "https://localhost:8080/",
          "height": 292
        },
        "id": "LpmegFFuKoTz",
        "outputId": "e82587da-959b-4c05-e83a-7bdb5c381408"
      },
      "source": [
        "image_df2=image_df.reset_index()\n",
        "image_df2.head()"
      ],
      "execution_count": null,
      "outputs": [
        {
          "output_type": "execute_result",
          "data": {
            "text/html": [
              "<div>\n",
              "<style scoped>\n",
              "    .dataframe tbody tr th:only-of-type {\n",
              "        vertical-align: middle;\n",
              "    }\n",
              "\n",
              "    .dataframe tbody tr th {\n",
              "        vertical-align: top;\n",
              "    }\n",
              "\n",
              "    .dataframe thead th {\n",
              "        text-align: right;\n",
              "    }\n",
              "</style>\n",
              "<table border=\"1\" class=\"dataframe\">\n",
              "  <thead>\n",
              "    <tr style=\"text-align: right;\">\n",
              "      <th></th>\n",
              "      <th>ImageId</th>\n",
              "      <th>EncodedPixels</th>\n",
              "      <th>category</th>\n",
              "      <th>Height</th>\n",
              "      <th>Width</th>\n",
              "    </tr>\n",
              "  </thead>\n",
              "  <tbody>\n",
              "    <tr>\n",
              "      <th>0</th>\n",
              "      <td>00000663ed1ff0c4e0132b9b9ac53f6e.jpg</td>\n",
              "      <td>[6068157 7 6073371 20 6078584 34 6083797 48 60...</td>\n",
              "      <td>[6, 0, 28, 31, 32, 32, 31, 29, 4]</td>\n",
              "      <td>5214</td>\n",
              "      <td>3676</td>\n",
              "    </tr>\n",
              "    <tr>\n",
              "      <th>1</th>\n",
              "      <td>0000fe7c9191fba733c8a69cfaf962b7.jpg</td>\n",
              "      <td>[2201176 1 2203623 3 2206071 5 2208518 8 22109...</td>\n",
              "      <td>[33, 1]</td>\n",
              "      <td>2448</td>\n",
              "      <td>2448</td>\n",
              "    </tr>\n",
              "    <tr>\n",
              "      <th>2</th>\n",
              "      <td>0002ec21ddb8477e98b2cbb87ea2e269.jpg</td>\n",
              "      <td>[2673735 2 2676734 8 2679734 13 2682733 19 268...</td>\n",
              "      <td>[33, 10, 23, 23]</td>\n",
              "      <td>3000</td>\n",
              "      <td>1997</td>\n",
              "    </tr>\n",
              "    <tr>\n",
              "      <th>3</th>\n",
              "      <td>0002f5a0ebc162ecfb73e2c91e3b8f62.jpg</td>\n",
              "      <td>[435 132 1002 132 1569 132 2136 132 2703 132 3...</td>\n",
              "      <td>[10, 33, 15]</td>\n",
              "      <td>567</td>\n",
              "      <td>400</td>\n",
              "    </tr>\n",
              "    <tr>\n",
              "      <th>4</th>\n",
              "      <td>0004467156e47b0eb6de4aa6479cbd15.jpg</td>\n",
              "      <td>[132663 8 133396 25 134130 41 134868 53 135611...</td>\n",
              "      <td>[10, 33, 31, 31, 15]</td>\n",
              "      <td>750</td>\n",
              "      <td>500</td>\n",
              "    </tr>\n",
              "  </tbody>\n",
              "</table>\n",
              "</div>"
            ],
            "text/plain": [
              "                                ImageId  ... Width\n",
              "0  00000663ed1ff0c4e0132b9b9ac53f6e.jpg  ...  3676\n",
              "1  0000fe7c9191fba733c8a69cfaf962b7.jpg  ...  2448\n",
              "2  0002ec21ddb8477e98b2cbb87ea2e269.jpg  ...  1997\n",
              "3  0002f5a0ebc162ecfb73e2c91e3b8f62.jpg  ...   400\n",
              "4  0004467156e47b0eb6de4aa6479cbd15.jpg  ...   500\n",
              "\n",
              "[5 rows x 5 columns]"
            ]
          },
          "metadata": {},
          "execution_count": 11
        }
      ]
    },
    {
      "cell_type": "code",
      "metadata": {
        "id": "rR-ggIDNKrX_"
      },
      "source": [
        "tr=train_df.groupby('category')['ImageId'].agg(lambda x: list(x)).to_frame('imageid').reset_index()\n",
        "tr['category']=tr['category'].astype('int')\n",
        "tr1=tr.sort_values('category', ascending=True)\n",
        "tr1 = tr1.reset_index(drop=True)\n",
        "my_dict = {k:v for k,v in zip(tr1['category'], tr1.drop(columns='category').values)}"
      ],
      "execution_count": null,
      "outputs": []
    },
    {
      "cell_type": "code",
      "metadata": {
        "colab": {
          "base_uri": "https://localhost:8080/"
        },
        "id": "8sikeX6mKtcz",
        "outputId": "233aae9c-28c3-4d2b-e08e-d6527b3dcfd0"
      },
      "source": [
        "from sklearn.model_selection import train_test_split\n",
        "X_train, X_test = train_test_split(image_df2, test_size = 0.2,random_state=42)\n",
        "X_train, X_val = train_test_split(X_train, test_size = 0.2,random_state=42)\n",
        "print('train shape : ',X_train.shape)\n",
        "print('test shape : ', X_test.shape)\n",
        "print('val shape : ', X_val.shape)"
      ],
      "execution_count": null,
      "outputs": [
        {
          "output_type": "stream",
          "name": "stdout",
          "text": [
            "train shape :  (28924, 5)\n",
            "test shape :  (9039, 5)\n",
            "val shape :  (7232, 5)\n"
          ]
        }
      ]
    },
    {
      "cell_type": "code",
      "metadata": {
        "id": "yjV1zjqZKyN8"
      },
      "source": [
        "def parse_image(i,m):\n",
        "    image = tf.io.read_file(r'/content/drive/MyDrive/Dataset de roupas/train/'+i)\n",
        "    image = tf.image.decode_jpeg(image,channels=3)\n",
        "   \n",
        "    image = tf.image.resize(image, [256, 256])\n",
        "    image = image / 255\n",
        "    \n",
        "    \n",
        "    mask = tf.io.read_file(r'/content/drive/MyDrive/Mascara/'+m)\n",
        "    \n",
        "    mask = tf.image.decode_png(mask,channels=3)\n",
        "    \n",
        "    mask=tf.image.rgb_to_grayscale(mask)\n",
        "    mask=tf.image.resize(mask,[256,256],method='nearest')\n",
        "    \n",
        "    \n",
        "    mask=tf.where(condition=tf.math.equal(mask, 255), x=tf.cast(46, dtype=mask.dtype), y=mask)\n",
        "    mask=tf.cast(mask,'float32')\n",
        "    \n",
        "    return image,mask"
      ],
      "execution_count": null,
      "outputs": []
    },
    {
      "cell_type": "code",
      "metadata": {
        "id": "CJjZycJnK2MO"
      },
      "source": [
        "def random_augmentation(img, mask):\n",
        "    if tf.random.uniform(()) > 0.5:\n",
        "        img = tf.image.flip_left_right(img)\n",
        "        mask = tf.image.flip_left_right(mask)\n",
        "    \n",
        "\n",
        "    return img, mask"
      ],
      "execution_count": null,
      "outputs": []
    },
    {
      "cell_type": "code",
      "metadata": {
        "id": "aeiakwQnK6-b"
      },
      "source": [
        "def tfdata_train(Tr,batch_size=5):\n",
        "      f = Tr[\"ImageId\"]\n",
        "      g = Tr[\"ImageId\"].str.replace('.jpg','.png',regex=False)\n",
        "      \n",
        "      train_dataset=tf.data.Dataset.from_tensor_slices((f,g))\n",
        "      train_dataset= train_dataset.shuffle(len(f))\n",
        "      train_dataset= train_dataset.map(parse_image, num_parallel_calls=tf.data.experimental.AUTOTUNE)\n",
        "      train_dataset = train_dataset.map(random_augmentation, num_parallel_calls=tf.data.experimental.AUTOTUNE)\n",
        "      train_dataset = train_dataset.batch(batch_size)\n",
        "      train_dataset = train_dataset.prefetch(buffer_size=3)  \n",
        "      return train_dataset"
      ],
      "execution_count": null,
      "outputs": []
    },
    {
      "cell_type": "code",
      "metadata": {
        "id": "-4Hr1Ht2K9Q0"
      },
      "source": [
        "def tfdata_val(Val,batch_size=5):\n",
        "    f = Val[\"ImageId\"]\n",
        "    g = Val[\"ImageId\"].str.replace('.jpg','.png',regex=False)\n",
        "    val_dataset = tf.data.Dataset.from_tensor_slices((f,g))\n",
        "    val_dataset = val_dataset.shuffle(len(f))\n",
        "    val_dataset = val_dataset.map(parse_image, num_parallel_calls=tf.data.experimental.AUTOTUNE)\n",
        "    val_dataset = val_dataset.batch(batch_size)\n",
        "    \n",
        "    return val_dataset"
      ],
      "execution_count": null,
      "outputs": []
    },
    {
      "cell_type": "code",
      "metadata": {
        "id": "G6dJ0SUkK_O2"
      },
      "source": [
        "def tfdata_test(Test,batch_size=5):\n",
        "  f = Test[\"ImageId\"]\n",
        "  g = Test[\"ImageId\"].str.replace('.jpg','.png',regex=False)\n",
        "  test_dataset = tf.data.Dataset.from_tensor_slices((f, g))\n",
        "  test_dataset = test_dataset.map(parse_image)\n",
        "  test_dataset = test_dataset.batch(batch_size)\n",
        "  \n",
        "  return test_dataset"
      ],
      "execution_count": null,
      "outputs": []
    },
    {
      "cell_type": "code",
      "metadata": {
        "id": "wBKkAntkLBUB"
      },
      "source": [
        "train_dataset=tfdata_train(X_train)\n",
        "val_dataset=tfdata_val(X_val)\n",
        "test_dataset =tfdata_test(X_test)"
      ],
      "execution_count": null,
      "outputs": []
    },
    {
      "cell_type": "code",
      "metadata": {
        "id": "DGVAPcR-Lmq8"
      },
      "source": [
        "IMAGE_SIZE = 256\n",
        "BATCH_SIZE = 200\n",
        "NUM_CLASSES = 47"
      ],
      "execution_count": null,
      "outputs": []
    },
    {
      "cell_type": "markdown",
      "metadata": {
        "id": "5P-oJ6akgYps"
      },
      "source": [
        "**Modelo**"
      ]
    },
    {
      "cell_type": "code",
      "metadata": {
        "id": "q42SP2UaLU8M"
      },
      "source": [
        "def convolution_block(\n",
        "    block_input,\n",
        "    num_filters=16,\n",
        "    kernel_size=3,\n",
        "    dilation_rate=1,\n",
        "    padding=\"same\",\n",
        "    use_bias=False,\n",
        "):\n",
        "    x = layers.Conv2D(\n",
        "        num_filters,\n",
        "        kernel_size=kernel_size,\n",
        "        dilation_rate=dilation_rate,\n",
        "        padding=\"same\",\n",
        "        use_bias=use_bias,\n",
        "        kernel_initializer=keras.initializers.HeNormal(),\n",
        "    )(block_input)\n",
        "    x = layers.BatchNormalization()(x)\n",
        "    return tf.nn.relu(x)\n",
        "\n",
        "\n",
        "def DilatedSpatialPyramidPooling(dspp_input):\n",
        "    dims = dspp_input.shape\n",
        "    x = layers.AveragePooling2D(pool_size=(dims[-3], dims[-2]))(dspp_input)\n",
        "    x = convolution_block(x, kernel_size=1, use_bias=True)\n",
        "    out_pool = layers.UpSampling2D(\n",
        "        size=(dims[-3] // x.shape[1], dims[-2] // x.shape[2]), interpolation=\"bilinear\",\n",
        "    )(x)\n",
        "\n",
        "    out_1 = convolution_block(dspp_input, kernel_size=1, dilation_rate=1)\n",
        "    out_6 = convolution_block(dspp_input, kernel_size=3, dilation_rate=6)\n",
        "    out_12 = convolution_block(dspp_input, kernel_size=3, dilation_rate=12)\n",
        "    out_18 = convolution_block(dspp_input, kernel_size=3, dilation_rate=18)\n",
        "\n",
        "    x = layers.Concatenate(axis=-1)([out_pool, out_1, out_6, out_12, out_18])\n",
        "    output = convolution_block(x, kernel_size=1)\n",
        "    return output"
      ],
      "execution_count": null,
      "outputs": []
    },
    {
      "cell_type": "code",
      "metadata": {
        "colab": {
          "base_uri": "https://localhost:8080/"
        },
        "id": "k3PBtYakLYb_",
        "outputId": "5cf07064-da6f-494b-fb45-f7d205914b63"
      },
      "source": [
        "def DeeplabV3Plus(image_size, num_classes):\n",
        "    model_input = keras.Input(shape=(image_size, image_size, 3))\n",
        "    resnet50 = keras.applications.ResNet50(\n",
        "        weights=\"imagenet\", include_top=False, input_tensor=model_input\n",
        "    )\n",
        "    x = resnet50.get_layer(\"conv4_block6_2_relu\").output\n",
        "    x = DilatedSpatialPyramidPooling(x)\n",
        "\n",
        "    input_a = layers.UpSampling2D(\n",
        "        size=(image_size // 4 // x.shape[1], image_size // 4 // x.shape[2]),\n",
        "        interpolation=\"bilinear\",\n",
        "    )(x)\n",
        "    input_b = resnet50.get_layer(\"conv2_block3_2_relu\").output\n",
        "    input_b = convolution_block(input_b, num_filters=48, kernel_size=1)\n",
        "\n",
        "    x = layers.Concatenate(axis=-1)([input_a, input_b])\n",
        "    x = convolution_block(x)\n",
        "    x = convolution_block(x)\n",
        "    x = layers.UpSampling2D(\n",
        "        size=(image_size // x.shape[1], image_size // x.shape[2]),\n",
        "        interpolation=\"bilinear\",\n",
        "    )(x)\n",
        "    model_output = layers.Conv2D(num_classes, kernel_size=(1, 1), padding=\"same\")(x)\n",
        "    return keras.Model(inputs=model_input, outputs=model_output)\n",
        "\n",
        "\n",
        "model = DeeplabV3Plus(image_size=IMAGE_SIZE, num_classes=NUM_CLASSES)\n",
        "model.summary()"
      ],
      "execution_count": null,
      "outputs": [
        {
          "output_type": "stream",
          "name": "stdout",
          "text": [
            "Downloading data from https://storage.googleapis.com/tensorflow/keras-applications/resnet/resnet50_weights_tf_dim_ordering_tf_kernels_notop.h5\n",
            "94773248/94765736 [==============================] - 1s 0us/step\n",
            "94781440/94765736 [==============================] - 1s 0us/step\n",
            "Model: \"model\"\n",
            "__________________________________________________________________________________________________\n",
            " Layer (type)                   Output Shape         Param #     Connected to                     \n",
            "==================================================================================================\n",
            " input_1 (InputLayer)           [(None, 256, 256, 3  0           []                               \n",
            "                                )]                                                                \n",
            "                                                                                                  \n",
            " conv1_pad (ZeroPadding2D)      (None, 262, 262, 3)  0           ['input_1[0][0]']                \n",
            "                                                                                                  \n",
            " conv1_conv (Conv2D)            (None, 128, 128, 64  9472        ['conv1_pad[0][0]']              \n",
            "                                )                                                                 \n",
            "                                                                                                  \n",
            " conv1_bn (BatchNormalization)  (None, 128, 128, 64  256         ['conv1_conv[0][0]']             \n",
            "                                )                                                                 \n",
            "                                                                                                  \n",
            " conv1_relu (Activation)        (None, 128, 128, 64  0           ['conv1_bn[0][0]']               \n",
            "                                )                                                                 \n",
            "                                                                                                  \n",
            " pool1_pad (ZeroPadding2D)      (None, 130, 130, 64  0           ['conv1_relu[0][0]']             \n",
            "                                )                                                                 \n",
            "                                                                                                  \n",
            " pool1_pool (MaxPooling2D)      (None, 64, 64, 64)   0           ['pool1_pad[0][0]']              \n",
            "                                                                                                  \n",
            " conv2_block1_1_conv (Conv2D)   (None, 64, 64, 64)   4160        ['pool1_pool[0][0]']             \n",
            "                                                                                                  \n",
            " conv2_block1_1_bn (BatchNormal  (None, 64, 64, 64)  256         ['conv2_block1_1_conv[0][0]']    \n",
            " ization)                                                                                         \n",
            "                                                                                                  \n",
            " conv2_block1_1_relu (Activatio  (None, 64, 64, 64)  0           ['conv2_block1_1_bn[0][0]']      \n",
            " n)                                                                                               \n",
            "                                                                                                  \n",
            " conv2_block1_2_conv (Conv2D)   (None, 64, 64, 64)   36928       ['conv2_block1_1_relu[0][0]']    \n",
            "                                                                                                  \n",
            " conv2_block1_2_bn (BatchNormal  (None, 64, 64, 64)  256         ['conv2_block1_2_conv[0][0]']    \n",
            " ization)                                                                                         \n",
            "                                                                                                  \n",
            " conv2_block1_2_relu (Activatio  (None, 64, 64, 64)  0           ['conv2_block1_2_bn[0][0]']      \n",
            " n)                                                                                               \n",
            "                                                                                                  \n",
            " conv2_block1_0_conv (Conv2D)   (None, 64, 64, 256)  16640       ['pool1_pool[0][0]']             \n",
            "                                                                                                  \n",
            " conv2_block1_3_conv (Conv2D)   (None, 64, 64, 256)  16640       ['conv2_block1_2_relu[0][0]']    \n",
            "                                                                                                  \n",
            " conv2_block1_0_bn (BatchNormal  (None, 64, 64, 256)  1024       ['conv2_block1_0_conv[0][0]']    \n",
            " ization)                                                                                         \n",
            "                                                                                                  \n",
            " conv2_block1_3_bn (BatchNormal  (None, 64, 64, 256)  1024       ['conv2_block1_3_conv[0][0]']    \n",
            " ization)                                                                                         \n",
            "                                                                                                  \n",
            " conv2_block1_add (Add)         (None, 64, 64, 256)  0           ['conv2_block1_0_bn[0][0]',      \n",
            "                                                                  'conv2_block1_3_bn[0][0]']      \n",
            "                                                                                                  \n",
            " conv2_block1_out (Activation)  (None, 64, 64, 256)  0           ['conv2_block1_add[0][0]']       \n",
            "                                                                                                  \n",
            " conv2_block2_1_conv (Conv2D)   (None, 64, 64, 64)   16448       ['conv2_block1_out[0][0]']       \n",
            "                                                                                                  \n",
            " conv2_block2_1_bn (BatchNormal  (None, 64, 64, 64)  256         ['conv2_block2_1_conv[0][0]']    \n",
            " ization)                                                                                         \n",
            "                                                                                                  \n",
            " conv2_block2_1_relu (Activatio  (None, 64, 64, 64)  0           ['conv2_block2_1_bn[0][0]']      \n",
            " n)                                                                                               \n",
            "                                                                                                  \n",
            " conv2_block2_2_conv (Conv2D)   (None, 64, 64, 64)   36928       ['conv2_block2_1_relu[0][0]']    \n",
            "                                                                                                  \n",
            " conv2_block2_2_bn (BatchNormal  (None, 64, 64, 64)  256         ['conv2_block2_2_conv[0][0]']    \n",
            " ization)                                                                                         \n",
            "                                                                                                  \n",
            " conv2_block2_2_relu (Activatio  (None, 64, 64, 64)  0           ['conv2_block2_2_bn[0][0]']      \n",
            " n)                                                                                               \n",
            "                                                                                                  \n",
            " conv2_block2_3_conv (Conv2D)   (None, 64, 64, 256)  16640       ['conv2_block2_2_relu[0][0]']    \n",
            "                                                                                                  \n",
            " conv2_block2_3_bn (BatchNormal  (None, 64, 64, 256)  1024       ['conv2_block2_3_conv[0][0]']    \n",
            " ization)                                                                                         \n",
            "                                                                                                  \n",
            " conv2_block2_add (Add)         (None, 64, 64, 256)  0           ['conv2_block1_out[0][0]',       \n",
            "                                                                  'conv2_block2_3_bn[0][0]']      \n",
            "                                                                                                  \n",
            " conv2_block2_out (Activation)  (None, 64, 64, 256)  0           ['conv2_block2_add[0][0]']       \n",
            "                                                                                                  \n",
            " conv2_block3_1_conv (Conv2D)   (None, 64, 64, 64)   16448       ['conv2_block2_out[0][0]']       \n",
            "                                                                                                  \n",
            " conv2_block3_1_bn (BatchNormal  (None, 64, 64, 64)  256         ['conv2_block3_1_conv[0][0]']    \n",
            " ization)                                                                                         \n",
            "                                                                                                  \n",
            " conv2_block3_1_relu (Activatio  (None, 64, 64, 64)  0           ['conv2_block3_1_bn[0][0]']      \n",
            " n)                                                                                               \n",
            "                                                                                                  \n",
            " conv2_block3_2_conv (Conv2D)   (None, 64, 64, 64)   36928       ['conv2_block3_1_relu[0][0]']    \n",
            "                                                                                                  \n",
            " conv2_block3_2_bn (BatchNormal  (None, 64, 64, 64)  256         ['conv2_block3_2_conv[0][0]']    \n",
            " ization)                                                                                         \n",
            "                                                                                                  \n",
            " conv2_block3_2_relu (Activatio  (None, 64, 64, 64)  0           ['conv2_block3_2_bn[0][0]']      \n",
            " n)                                                                                               \n",
            "                                                                                                  \n",
            " conv2_block3_3_conv (Conv2D)   (None, 64, 64, 256)  16640       ['conv2_block3_2_relu[0][0]']    \n",
            "                                                                                                  \n",
            " conv2_block3_3_bn (BatchNormal  (None, 64, 64, 256)  1024       ['conv2_block3_3_conv[0][0]']    \n",
            " ization)                                                                                         \n",
            "                                                                                                  \n",
            " conv2_block3_add (Add)         (None, 64, 64, 256)  0           ['conv2_block2_out[0][0]',       \n",
            "                                                                  'conv2_block3_3_bn[0][0]']      \n",
            "                                                                                                  \n",
            " conv2_block3_out (Activation)  (None, 64, 64, 256)  0           ['conv2_block3_add[0][0]']       \n",
            "                                                                                                  \n",
            " conv3_block1_1_conv (Conv2D)   (None, 32, 32, 128)  32896       ['conv2_block3_out[0][0]']       \n",
            "                                                                                                  \n",
            " conv3_block1_1_bn (BatchNormal  (None, 32, 32, 128)  512        ['conv3_block1_1_conv[0][0]']    \n",
            " ization)                                                                                         \n",
            "                                                                                                  \n",
            " conv3_block1_1_relu (Activatio  (None, 32, 32, 128)  0          ['conv3_block1_1_bn[0][0]']      \n",
            " n)                                                                                               \n",
            "                                                                                                  \n",
            " conv3_block1_2_conv (Conv2D)   (None, 32, 32, 128)  147584      ['conv3_block1_1_relu[0][0]']    \n",
            "                                                                                                  \n",
            " conv3_block1_2_bn (BatchNormal  (None, 32, 32, 128)  512        ['conv3_block1_2_conv[0][0]']    \n",
            " ization)                                                                                         \n",
            "                                                                                                  \n",
            " conv3_block1_2_relu (Activatio  (None, 32, 32, 128)  0          ['conv3_block1_2_bn[0][0]']      \n",
            " n)                                                                                               \n",
            "                                                                                                  \n",
            " conv3_block1_0_conv (Conv2D)   (None, 32, 32, 512)  131584      ['conv2_block3_out[0][0]']       \n",
            "                                                                                                  \n",
            " conv3_block1_3_conv (Conv2D)   (None, 32, 32, 512)  66048       ['conv3_block1_2_relu[0][0]']    \n",
            "                                                                                                  \n",
            " conv3_block1_0_bn (BatchNormal  (None, 32, 32, 512)  2048       ['conv3_block1_0_conv[0][0]']    \n",
            " ization)                                                                                         \n",
            "                                                                                                  \n",
            " conv3_block1_3_bn (BatchNormal  (None, 32, 32, 512)  2048       ['conv3_block1_3_conv[0][0]']    \n",
            " ization)                                                                                         \n",
            "                                                                                                  \n",
            " conv3_block1_add (Add)         (None, 32, 32, 512)  0           ['conv3_block1_0_bn[0][0]',      \n",
            "                                                                  'conv3_block1_3_bn[0][0]']      \n",
            "                                                                                                  \n",
            " conv3_block1_out (Activation)  (None, 32, 32, 512)  0           ['conv3_block1_add[0][0]']       \n",
            "                                                                                                  \n",
            " conv3_block2_1_conv (Conv2D)   (None, 32, 32, 128)  65664       ['conv3_block1_out[0][0]']       \n",
            "                                                                                                  \n",
            " conv3_block2_1_bn (BatchNormal  (None, 32, 32, 128)  512        ['conv3_block2_1_conv[0][0]']    \n",
            " ization)                                                                                         \n",
            "                                                                                                  \n",
            " conv3_block2_1_relu (Activatio  (None, 32, 32, 128)  0          ['conv3_block2_1_bn[0][0]']      \n",
            " n)                                                                                               \n",
            "                                                                                                  \n",
            " conv3_block2_2_conv (Conv2D)   (None, 32, 32, 128)  147584      ['conv3_block2_1_relu[0][0]']    \n",
            "                                                                                                  \n",
            " conv3_block2_2_bn (BatchNormal  (None, 32, 32, 128)  512        ['conv3_block2_2_conv[0][0]']    \n",
            " ization)                                                                                         \n",
            "                                                                                                  \n",
            " conv3_block2_2_relu (Activatio  (None, 32, 32, 128)  0          ['conv3_block2_2_bn[0][0]']      \n",
            " n)                                                                                               \n",
            "                                                                                                  \n",
            " conv3_block2_3_conv (Conv2D)   (None, 32, 32, 512)  66048       ['conv3_block2_2_relu[0][0]']    \n",
            "                                                                                                  \n",
            " conv3_block2_3_bn (BatchNormal  (None, 32, 32, 512)  2048       ['conv3_block2_3_conv[0][0]']    \n",
            " ization)                                                                                         \n",
            "                                                                                                  \n",
            " conv3_block2_add (Add)         (None, 32, 32, 512)  0           ['conv3_block1_out[0][0]',       \n",
            "                                                                  'conv3_block2_3_bn[0][0]']      \n",
            "                                                                                                  \n",
            " conv3_block2_out (Activation)  (None, 32, 32, 512)  0           ['conv3_block2_add[0][0]']       \n",
            "                                                                                                  \n",
            " conv3_block3_1_conv (Conv2D)   (None, 32, 32, 128)  65664       ['conv3_block2_out[0][0]']       \n",
            "                                                                                                  \n",
            " conv3_block3_1_bn (BatchNormal  (None, 32, 32, 128)  512        ['conv3_block3_1_conv[0][0]']    \n",
            " ization)                                                                                         \n",
            "                                                                                                  \n",
            " conv3_block3_1_relu (Activatio  (None, 32, 32, 128)  0          ['conv3_block3_1_bn[0][0]']      \n",
            " n)                                                                                               \n",
            "                                                                                                  \n",
            " conv3_block3_2_conv (Conv2D)   (None, 32, 32, 128)  147584      ['conv3_block3_1_relu[0][0]']    \n",
            "                                                                                                  \n",
            " conv3_block3_2_bn (BatchNormal  (None, 32, 32, 128)  512        ['conv3_block3_2_conv[0][0]']    \n",
            " ization)                                                                                         \n",
            "                                                                                                  \n",
            " conv3_block3_2_relu (Activatio  (None, 32, 32, 128)  0          ['conv3_block3_2_bn[0][0]']      \n",
            " n)                                                                                               \n",
            "                                                                                                  \n",
            " conv3_block3_3_conv (Conv2D)   (None, 32, 32, 512)  66048       ['conv3_block3_2_relu[0][0]']    \n",
            "                                                                                                  \n",
            " conv3_block3_3_bn (BatchNormal  (None, 32, 32, 512)  2048       ['conv3_block3_3_conv[0][0]']    \n",
            " ization)                                                                                         \n",
            "                                                                                                  \n",
            " conv3_block3_add (Add)         (None, 32, 32, 512)  0           ['conv3_block2_out[0][0]',       \n",
            "                                                                  'conv3_block3_3_bn[0][0]']      \n",
            "                                                                                                  \n",
            " conv3_block3_out (Activation)  (None, 32, 32, 512)  0           ['conv3_block3_add[0][0]']       \n",
            "                                                                                                  \n",
            " conv3_block4_1_conv (Conv2D)   (None, 32, 32, 128)  65664       ['conv3_block3_out[0][0]']       \n",
            "                                                                                                  \n",
            " conv3_block4_1_bn (BatchNormal  (None, 32, 32, 128)  512        ['conv3_block4_1_conv[0][0]']    \n",
            " ization)                                                                                         \n",
            "                                                                                                  \n",
            " conv3_block4_1_relu (Activatio  (None, 32, 32, 128)  0          ['conv3_block4_1_bn[0][0]']      \n",
            " n)                                                                                               \n",
            "                                                                                                  \n",
            " conv3_block4_2_conv (Conv2D)   (None, 32, 32, 128)  147584      ['conv3_block4_1_relu[0][0]']    \n",
            "                                                                                                  \n",
            " conv3_block4_2_bn (BatchNormal  (None, 32, 32, 128)  512        ['conv3_block4_2_conv[0][0]']    \n",
            " ization)                                                                                         \n",
            "                                                                                                  \n",
            " conv3_block4_2_relu (Activatio  (None, 32, 32, 128)  0          ['conv3_block4_2_bn[0][0]']      \n",
            " n)                                                                                               \n",
            "                                                                                                  \n",
            " conv3_block4_3_conv (Conv2D)   (None, 32, 32, 512)  66048       ['conv3_block4_2_relu[0][0]']    \n",
            "                                                                                                  \n",
            " conv3_block4_3_bn (BatchNormal  (None, 32, 32, 512)  2048       ['conv3_block4_3_conv[0][0]']    \n",
            " ization)                                                                                         \n",
            "                                                                                                  \n",
            " conv3_block4_add (Add)         (None, 32, 32, 512)  0           ['conv3_block3_out[0][0]',       \n",
            "                                                                  'conv3_block4_3_bn[0][0]']      \n",
            "                                                                                                  \n",
            " conv3_block4_out (Activation)  (None, 32, 32, 512)  0           ['conv3_block4_add[0][0]']       \n",
            "                                                                                                  \n",
            " conv4_block1_1_conv (Conv2D)   (None, 16, 16, 256)  131328      ['conv3_block4_out[0][0]']       \n",
            "                                                                                                  \n",
            " conv4_block1_1_bn (BatchNormal  (None, 16, 16, 256)  1024       ['conv4_block1_1_conv[0][0]']    \n",
            " ization)                                                                                         \n",
            "                                                                                                  \n",
            " conv4_block1_1_relu (Activatio  (None, 16, 16, 256)  0          ['conv4_block1_1_bn[0][0]']      \n",
            " n)                                                                                               \n",
            "                                                                                                  \n",
            " conv4_block1_2_conv (Conv2D)   (None, 16, 16, 256)  590080      ['conv4_block1_1_relu[0][0]']    \n",
            "                                                                                                  \n",
            " conv4_block1_2_bn (BatchNormal  (None, 16, 16, 256)  1024       ['conv4_block1_2_conv[0][0]']    \n",
            " ization)                                                                                         \n",
            "                                                                                                  \n",
            " conv4_block1_2_relu (Activatio  (None, 16, 16, 256)  0          ['conv4_block1_2_bn[0][0]']      \n",
            " n)                                                                                               \n",
            "                                                                                                  \n",
            " conv4_block1_0_conv (Conv2D)   (None, 16, 16, 1024  525312      ['conv3_block4_out[0][0]']       \n",
            "                                )                                                                 \n",
            "                                                                                                  \n",
            " conv4_block1_3_conv (Conv2D)   (None, 16, 16, 1024  263168      ['conv4_block1_2_relu[0][0]']    \n",
            "                                )                                                                 \n",
            "                                                                                                  \n",
            " conv4_block1_0_bn (BatchNormal  (None, 16, 16, 1024  4096       ['conv4_block1_0_conv[0][0]']    \n",
            " ization)                       )                                                                 \n",
            "                                                                                                  \n",
            " conv4_block1_3_bn (BatchNormal  (None, 16, 16, 1024  4096       ['conv4_block1_3_conv[0][0]']    \n",
            " ization)                       )                                                                 \n",
            "                                                                                                  \n",
            " conv4_block1_add (Add)         (None, 16, 16, 1024  0           ['conv4_block1_0_bn[0][0]',      \n",
            "                                )                                 'conv4_block1_3_bn[0][0]']      \n",
            "                                                                                                  \n",
            " conv4_block1_out (Activation)  (None, 16, 16, 1024  0           ['conv4_block1_add[0][0]']       \n",
            "                                )                                                                 \n",
            "                                                                                                  \n",
            " conv4_block2_1_conv (Conv2D)   (None, 16, 16, 256)  262400      ['conv4_block1_out[0][0]']       \n",
            "                                                                                                  \n",
            " conv4_block2_1_bn (BatchNormal  (None, 16, 16, 256)  1024       ['conv4_block2_1_conv[0][0]']    \n",
            " ization)                                                                                         \n",
            "                                                                                                  \n",
            " conv4_block2_1_relu (Activatio  (None, 16, 16, 256)  0          ['conv4_block2_1_bn[0][0]']      \n",
            " n)                                                                                               \n",
            "                                                                                                  \n",
            " conv4_block2_2_conv (Conv2D)   (None, 16, 16, 256)  590080      ['conv4_block2_1_relu[0][0]']    \n",
            "                                                                                                  \n",
            " conv4_block2_2_bn (BatchNormal  (None, 16, 16, 256)  1024       ['conv4_block2_2_conv[0][0]']    \n",
            " ization)                                                                                         \n",
            "                                                                                                  \n",
            " conv4_block2_2_relu (Activatio  (None, 16, 16, 256)  0          ['conv4_block2_2_bn[0][0]']      \n",
            " n)                                                                                               \n",
            "                                                                                                  \n",
            " conv4_block2_3_conv (Conv2D)   (None, 16, 16, 1024  263168      ['conv4_block2_2_relu[0][0]']    \n",
            "                                )                                                                 \n",
            "                                                                                                  \n",
            " conv4_block2_3_bn (BatchNormal  (None, 16, 16, 1024  4096       ['conv4_block2_3_conv[0][0]']    \n",
            " ization)                       )                                                                 \n",
            "                                                                                                  \n",
            " conv4_block2_add (Add)         (None, 16, 16, 1024  0           ['conv4_block1_out[0][0]',       \n",
            "                                )                                 'conv4_block2_3_bn[0][0]']      \n",
            "                                                                                                  \n",
            " conv4_block2_out (Activation)  (None, 16, 16, 1024  0           ['conv4_block2_add[0][0]']       \n",
            "                                )                                                                 \n",
            "                                                                                                  \n",
            " conv4_block3_1_conv (Conv2D)   (None, 16, 16, 256)  262400      ['conv4_block2_out[0][0]']       \n",
            "                                                                                                  \n",
            " conv4_block3_1_bn (BatchNormal  (None, 16, 16, 256)  1024       ['conv4_block3_1_conv[0][0]']    \n",
            " ization)                                                                                         \n",
            "                                                                                                  \n",
            " conv4_block3_1_relu (Activatio  (None, 16, 16, 256)  0          ['conv4_block3_1_bn[0][0]']      \n",
            " n)                                                                                               \n",
            "                                                                                                  \n",
            " conv4_block3_2_conv (Conv2D)   (None, 16, 16, 256)  590080      ['conv4_block3_1_relu[0][0]']    \n",
            "                                                                                                  \n",
            " conv4_block3_2_bn (BatchNormal  (None, 16, 16, 256)  1024       ['conv4_block3_2_conv[0][0]']    \n",
            " ization)                                                                                         \n",
            "                                                                                                  \n",
            " conv4_block3_2_relu (Activatio  (None, 16, 16, 256)  0          ['conv4_block3_2_bn[0][0]']      \n",
            " n)                                                                                               \n",
            "                                                                                                  \n",
            " conv4_block3_3_conv (Conv2D)   (None, 16, 16, 1024  263168      ['conv4_block3_2_relu[0][0]']    \n",
            "                                )                                                                 \n",
            "                                                                                                  \n",
            " conv4_block3_3_bn (BatchNormal  (None, 16, 16, 1024  4096       ['conv4_block3_3_conv[0][0]']    \n",
            " ization)                       )                                                                 \n",
            "                                                                                                  \n",
            " conv4_block3_add (Add)         (None, 16, 16, 1024  0           ['conv4_block2_out[0][0]',       \n",
            "                                )                                 'conv4_block3_3_bn[0][0]']      \n",
            "                                                                                                  \n",
            " conv4_block3_out (Activation)  (None, 16, 16, 1024  0           ['conv4_block3_add[0][0]']       \n",
            "                                )                                                                 \n",
            "                                                                                                  \n",
            " conv4_block4_1_conv (Conv2D)   (None, 16, 16, 256)  262400      ['conv4_block3_out[0][0]']       \n",
            "                                                                                                  \n",
            " conv4_block4_1_bn (BatchNormal  (None, 16, 16, 256)  1024       ['conv4_block4_1_conv[0][0]']    \n",
            " ization)                                                                                         \n",
            "                                                                                                  \n",
            " conv4_block4_1_relu (Activatio  (None, 16, 16, 256)  0          ['conv4_block4_1_bn[0][0]']      \n",
            " n)                                                                                               \n",
            "                                                                                                  \n",
            " conv4_block4_2_conv (Conv2D)   (None, 16, 16, 256)  590080      ['conv4_block4_1_relu[0][0]']    \n",
            "                                                                                                  \n",
            " conv4_block4_2_bn (BatchNormal  (None, 16, 16, 256)  1024       ['conv4_block4_2_conv[0][0]']    \n",
            " ization)                                                                                         \n",
            "                                                                                                  \n",
            " conv4_block4_2_relu (Activatio  (None, 16, 16, 256)  0          ['conv4_block4_2_bn[0][0]']      \n",
            " n)                                                                                               \n",
            "                                                                                                  \n",
            " conv4_block4_3_conv (Conv2D)   (None, 16, 16, 1024  263168      ['conv4_block4_2_relu[0][0]']    \n",
            "                                )                                                                 \n",
            "                                                                                                  \n",
            " conv4_block4_3_bn (BatchNormal  (None, 16, 16, 1024  4096       ['conv4_block4_3_conv[0][0]']    \n",
            " ization)                       )                                                                 \n",
            "                                                                                                  \n",
            " conv4_block4_add (Add)         (None, 16, 16, 1024  0           ['conv4_block3_out[0][0]',       \n",
            "                                )                                 'conv4_block4_3_bn[0][0]']      \n",
            "                                                                                                  \n",
            " conv4_block4_out (Activation)  (None, 16, 16, 1024  0           ['conv4_block4_add[0][0]']       \n",
            "                                )                                                                 \n",
            "                                                                                                  \n",
            " conv4_block5_1_conv (Conv2D)   (None, 16, 16, 256)  262400      ['conv4_block4_out[0][0]']       \n",
            "                                                                                                  \n",
            " conv4_block5_1_bn (BatchNormal  (None, 16, 16, 256)  1024       ['conv4_block5_1_conv[0][0]']    \n",
            " ization)                                                                                         \n",
            "                                                                                                  \n",
            " conv4_block5_1_relu (Activatio  (None, 16, 16, 256)  0          ['conv4_block5_1_bn[0][0]']      \n",
            " n)                                                                                               \n",
            "                                                                                                  \n",
            " conv4_block5_2_conv (Conv2D)   (None, 16, 16, 256)  590080      ['conv4_block5_1_relu[0][0]']    \n",
            "                                                                                                  \n",
            " conv4_block5_2_bn (BatchNormal  (None, 16, 16, 256)  1024       ['conv4_block5_2_conv[0][0]']    \n",
            " ization)                                                                                         \n",
            "                                                                                                  \n",
            " conv4_block5_2_relu (Activatio  (None, 16, 16, 256)  0          ['conv4_block5_2_bn[0][0]']      \n",
            " n)                                                                                               \n",
            "                                                                                                  \n",
            " conv4_block5_3_conv (Conv2D)   (None, 16, 16, 1024  263168      ['conv4_block5_2_relu[0][0]']    \n",
            "                                )                                                                 \n",
            "                                                                                                  \n",
            " conv4_block5_3_bn (BatchNormal  (None, 16, 16, 1024  4096       ['conv4_block5_3_conv[0][0]']    \n",
            " ization)                       )                                                                 \n",
            "                                                                                                  \n",
            " conv4_block5_add (Add)         (None, 16, 16, 1024  0           ['conv4_block4_out[0][0]',       \n",
            "                                )                                 'conv4_block5_3_bn[0][0]']      \n",
            "                                                                                                  \n",
            " conv4_block5_out (Activation)  (None, 16, 16, 1024  0           ['conv4_block5_add[0][0]']       \n",
            "                                )                                                                 \n",
            "                                                                                                  \n",
            " conv4_block6_1_conv (Conv2D)   (None, 16, 16, 256)  262400      ['conv4_block5_out[0][0]']       \n",
            "                                                                                                  \n",
            " conv4_block6_1_bn (BatchNormal  (None, 16, 16, 256)  1024       ['conv4_block6_1_conv[0][0]']    \n",
            " ization)                                                                                         \n",
            "                                                                                                  \n",
            " conv4_block6_1_relu (Activatio  (None, 16, 16, 256)  0          ['conv4_block6_1_bn[0][0]']      \n",
            " n)                                                                                               \n",
            "                                                                                                  \n",
            " conv4_block6_2_conv (Conv2D)   (None, 16, 16, 256)  590080      ['conv4_block6_1_relu[0][0]']    \n",
            "                                                                                                  \n",
            " conv4_block6_2_bn (BatchNormal  (None, 16, 16, 256)  1024       ['conv4_block6_2_conv[0][0]']    \n",
            " ization)                                                                                         \n",
            "                                                                                                  \n",
            " conv4_block6_2_relu (Activatio  (None, 16, 16, 256)  0          ['conv4_block6_2_bn[0][0]']      \n",
            " n)                                                                                               \n",
            "                                                                                                  \n",
            " average_pooling2d (AveragePool  (None, 1, 1, 256)   0           ['conv4_block6_2_relu[0][0]']    \n",
            " ing2D)                                                                                           \n",
            "                                                                                                  \n",
            " conv2d (Conv2D)                (None, 1, 1, 16)     4112        ['average_pooling2d[0][0]']      \n",
            "                                                                                                  \n",
            " batch_normalization (BatchNorm  (None, 1, 1, 16)    64          ['conv2d[0][0]']                 \n",
            " alization)                                                                                       \n",
            "                                                                                                  \n",
            " conv2d_1 (Conv2D)              (None, 16, 16, 16)   4096        ['conv4_block6_2_relu[0][0]']    \n",
            "                                                                                                  \n",
            " conv2d_2 (Conv2D)              (None, 16, 16, 16)   36864       ['conv4_block6_2_relu[0][0]']    \n",
            "                                                                                                  \n",
            " conv2d_3 (Conv2D)              (None, 16, 16, 16)   36864       ['conv4_block6_2_relu[0][0]']    \n",
            "                                                                                                  \n",
            " conv2d_4 (Conv2D)              (None, 16, 16, 16)   36864       ['conv4_block6_2_relu[0][0]']    \n",
            "                                                                                                  \n",
            " tf.nn.relu (TFOpLambda)        (None, 1, 1, 16)     0           ['batch_normalization[0][0]']    \n",
            "                                                                                                  \n",
            " batch_normalization_1 (BatchNo  (None, 16, 16, 16)  64          ['conv2d_1[0][0]']               \n",
            " rmalization)                                                                                     \n",
            "                                                                                                  \n",
            " batch_normalization_2 (BatchNo  (None, 16, 16, 16)  64          ['conv2d_2[0][0]']               \n",
            " rmalization)                                                                                     \n",
            "                                                                                                  \n",
            " batch_normalization_3 (BatchNo  (None, 16, 16, 16)  64          ['conv2d_3[0][0]']               \n",
            " rmalization)                                                                                     \n",
            "                                                                                                  \n",
            " batch_normalization_4 (BatchNo  (None, 16, 16, 16)  64          ['conv2d_4[0][0]']               \n",
            " rmalization)                                                                                     \n",
            "                                                                                                  \n",
            " up_sampling2d (UpSampling2D)   (None, 16, 16, 16)   0           ['tf.nn.relu[0][0]']             \n",
            "                                                                                                  \n",
            " tf.nn.relu_1 (TFOpLambda)      (None, 16, 16, 16)   0           ['batch_normalization_1[0][0]']  \n",
            "                                                                                                  \n",
            " tf.nn.relu_2 (TFOpLambda)      (None, 16, 16, 16)   0           ['batch_normalization_2[0][0]']  \n",
            "                                                                                                  \n",
            " tf.nn.relu_3 (TFOpLambda)      (None, 16, 16, 16)   0           ['batch_normalization_3[0][0]']  \n",
            "                                                                                                  \n",
            " tf.nn.relu_4 (TFOpLambda)      (None, 16, 16, 16)   0           ['batch_normalization_4[0][0]']  \n",
            "                                                                                                  \n",
            " concatenate (Concatenate)      (None, 16, 16, 80)   0           ['up_sampling2d[0][0]',          \n",
            "                                                                  'tf.nn.relu_1[0][0]',           \n",
            "                                                                  'tf.nn.relu_2[0][0]',           \n",
            "                                                                  'tf.nn.relu_3[0][0]',           \n",
            "                                                                  'tf.nn.relu_4[0][0]']           \n",
            "                                                                                                  \n",
            " conv2d_5 (Conv2D)              (None, 16, 16, 16)   1280        ['concatenate[0][0]']            \n",
            "                                                                                                  \n",
            " batch_normalization_5 (BatchNo  (None, 16, 16, 16)  64          ['conv2d_5[0][0]']               \n",
            " rmalization)                                                                                     \n",
            "                                                                                                  \n",
            " conv2d_6 (Conv2D)              (None, 64, 64, 48)   3072        ['conv2_block3_2_relu[0][0]']    \n",
            "                                                                                                  \n",
            " tf.nn.relu_5 (TFOpLambda)      (None, 16, 16, 16)   0           ['batch_normalization_5[0][0]']  \n",
            "                                                                                                  \n",
            " batch_normalization_6 (BatchNo  (None, 64, 64, 48)  192         ['conv2d_6[0][0]']               \n",
            " rmalization)                                                                                     \n",
            "                                                                                                  \n",
            " up_sampling2d_1 (UpSampling2D)  (None, 64, 64, 16)  0           ['tf.nn.relu_5[0][0]']           \n",
            "                                                                                                  \n",
            " tf.nn.relu_6 (TFOpLambda)      (None, 64, 64, 48)   0           ['batch_normalization_6[0][0]']  \n",
            "                                                                                                  \n",
            " concatenate_1 (Concatenate)    (None, 64, 64, 64)   0           ['up_sampling2d_1[0][0]',        \n",
            "                                                                  'tf.nn.relu_6[0][0]']           \n",
            "                                                                                                  \n",
            " conv2d_7 (Conv2D)              (None, 64, 64, 16)   9216        ['concatenate_1[0][0]']          \n",
            "                                                                                                  \n",
            " batch_normalization_7 (BatchNo  (None, 64, 64, 16)  64          ['conv2d_7[0][0]']               \n",
            " rmalization)                                                                                     \n",
            "                                                                                                  \n",
            " tf.nn.relu_7 (TFOpLambda)      (None, 64, 64, 16)   0           ['batch_normalization_7[0][0]']  \n",
            "                                                                                                  \n",
            " conv2d_8 (Conv2D)              (None, 64, 64, 16)   2304        ['tf.nn.relu_7[0][0]']           \n",
            "                                                                                                  \n",
            " batch_normalization_8 (BatchNo  (None, 64, 64, 16)  64          ['conv2d_8[0][0]']               \n",
            " rmalization)                                                                                     \n",
            "                                                                                                  \n",
            " tf.nn.relu_8 (TFOpLambda)      (None, 64, 64, 16)   0           ['batch_normalization_8[0][0]']  \n",
            "                                                                                                  \n",
            " up_sampling2d_2 (UpSampling2D)  (None, 256, 256, 16  0          ['tf.nn.relu_8[0][0]']           \n",
            "                                )                                                                 \n",
            "                                                                                                  \n",
            " conv2d_9 (Conv2D)              (None, 256, 256, 47  799         ['up_sampling2d_2[0][0]']        \n",
            "                                )                                                                 \n",
            "                                                                                                  \n",
            "==================================================================================================\n",
            "Total params: 8,458,095\n",
            "Trainable params: 8,429,199\n",
            "Non-trainable params: 28,896\n",
            "__________________________________________________________________________________________________\n"
          ]
        }
      ]
    },
    {
      "cell_type": "markdown",
      "metadata": {
        "id": "ULIQYf8TggHx"
      },
      "source": [
        "**Treinamento**"
      ]
    },
    {
      "cell_type": "code",
      "metadata": {
        "id": "Jqs_PxAqPFzM"
      },
      "source": [
        "STEPS_PER_EPOCH = X_train.shape[0] // BATCH_SIZE\n",
        "VALIDATION_STEPS = X_val.shape[0] // BATCH_SIZE"
      ],
      "execution_count": null,
      "outputs": []
    },
    {
      "cell_type": "code",
      "metadata": {
        "id": "aMFDvhKNT72l"
      },
      "source": [
        "tensorboard_callback = tf.keras.callbacks.TensorBoard('./logs', histogram_freq=1)\n",
        "callbacks = [\n",
        "\n",
        "    tensorboard_callback,\n",
        "    tf.keras.callbacks.EarlyStopping(patience=10, verbose=1),\n",
        "    tf.keras.callbacks.ModelCheckpoint('pesos.h5', verbose=1, save_weights_only=True)\n",
        "     ]"
      ],
      "execution_count": null,
      "outputs": []
    },
    {
      "cell_type": "code",
      "metadata": {
        "id": "AyarTMN2MmBF",
        "colab": {
          "base_uri": "https://localhost:8080/"
        },
        "outputId": "64e2989f-6230-4704-9d6a-655952a33bfd"
      },
      "source": [
        "loss = keras.losses.SparseCategoricalCrossentropy(from_logits=True)\n",
        "model.compile(\n",
        "    optimizer=keras.optimizers.Adam(learning_rate=0.01),\n",
        "    loss=loss,\n",
        "    metrics=[\"accuracy\"],\n",
        ")\n",
        "\n",
        "history = model.fit(train_dataset, validation_data=val_dataset, \n",
        "                    epochs=6,steps_per_epoch=STEPS_PER_EPOCH,\n",
        "                    batch_size=BATCH_SIZE,\n",
        "                    callbacks=callbacks)"
      ],
      "execution_count": null,
      "outputs": [
        {
          "output_type": "stream",
          "name": "stdout",
          "text": [
            "Epoch 1/6\n",
            "144/144 [==============================] - ETA: 0s - loss: 0.7638 - accuracy: 0.8049\n",
            "Epoch 00001: saving model to pos_13_epoca.h5\n",
            "144/144 [==============================] - 2378s 16s/step - loss: 0.7638 - accuracy: 0.8049 - val_loss: 0.7556 - val_accuracy: 0.8028\n",
            "Epoch 2/6\n",
            "144/144 [==============================] - ETA: 0s - loss: 0.7210 - accuracy: 0.8107\n",
            "Epoch 00002: saving model to pos_13_epoca.h5\n",
            "144/144 [==============================] - 466s 3s/step - loss: 0.7210 - accuracy: 0.8107 - val_loss: 0.8722 - val_accuracy: 0.7684\n",
            "Epoch 3/6\n",
            "144/144 [==============================] - ETA: 0s - loss: 0.6846 - accuracy: 0.8176\n",
            "Epoch 00003: saving model to pos_13_epoca.h5\n",
            "144/144 [==============================] - 478s 3s/step - loss: 0.6846 - accuracy: 0.8176 - val_loss: 0.8945 - val_accuracy: 0.8001\n",
            "Epoch 4/6\n",
            "144/144 [==============================] - ETA: 0s - loss: 0.7516 - accuracy: 0.8050\n",
            "Epoch 00004: saving model to pos_13_epoca.h5\n",
            "144/144 [==============================] - 464s 3s/step - loss: 0.7516 - accuracy: 0.8050 - val_loss: 0.6937 - val_accuracy: 0.8152\n",
            "Epoch 5/6\n",
            "144/144 [==============================] - ETA: 0s - loss: 0.6909 - accuracy: 0.8179\n",
            "Epoch 00005: saving model to pos_13_epoca.h5\n",
            "144/144 [==============================] - 471s 3s/step - loss: 0.6909 - accuracy: 0.8179 - val_loss: 1.0288 - val_accuracy: 0.6838\n",
            "Epoch 6/6\n",
            "144/144 [==============================] - ETA: 0s - loss: 0.6721 - accuracy: 0.8204\n",
            "Epoch 00006: saving model to pos_13_epoca.h5\n",
            "144/144 [==============================] - 467s 3s/step - loss: 0.6721 - accuracy: 0.8204 - val_loss: 0.7489 - val_accuracy: 0.8101\n"
          ]
        }
      ]
    },
    {
      "cell_type": "code",
      "metadata": {
        "id": "mi596at5p5W_"
      },
      "source": [
        "model.save('deep_lab_final.h5')"
      ],
      "execution_count": null,
      "outputs": []
    }
  ]
}